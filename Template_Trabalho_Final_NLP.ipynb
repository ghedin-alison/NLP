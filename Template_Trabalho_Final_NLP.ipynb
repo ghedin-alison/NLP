{
  "nbformat": 4,
  "nbformat_minor": 0,
  "metadata": {
    "colab": {
      "provenance": [],
      "include_colab_link": true
    },
    "kernelspec": {
      "name": "python3",
      "display_name": "Python 3"
    },
    "accelerator": "GPU",
    "gpuClass": "standard"
  },
  "cells": [
    {
      "cell_type": "markdown",
      "metadata": {
        "id": "view-in-github",
        "colab_type": "text"
      },
      "source": [
        "<a href=\"https://colab.research.google.com/github/ghedin-alison/NLP/blob/main/Template_Trabalho_Final_NLP.ipynb\" target=\"_parent\"><img src=\"https://colab.research.google.com/assets/colab-badge.svg\" alt=\"Open In Colab\"/></a>"
      ]
    },
    {
      "cell_type": "markdown",
      "metadata": {
        "id": "VDbi6PDS9MYO"
      },
      "source": [
        "***Participantes (RM - NOME):***<br>\n",
        "xxxx - xxxxx<br>\n",
        "xxxx - xxxxx<br>\n",
        "xxxx - xxxxx<br>\n",
        "xxxx - xxxxx<br>"
      ]
    },
    {
      "cell_type": "markdown",
      "metadata": {
        "id": "7xw6WhaNo4k3"
      },
      "source": [
        "###**Criar um classificador de chamados aplicando técnicas de PLN**\n",
        "---\n",
        "\n",
        "A **DinDinAgora** tem um canal de atendimento via chat e precisar classificar os assuntos dos atendimentos para melhorar as tratativas dos chamados dos clientes. O canal recebe textos abertos dos clientes relatando o problema e/ou dúvida e depois é direcionado para algum uma área especialista no assunto para uma melhor tratativa.​\n",
        "\n",
        "Crie um modelo classificador de assuntos aplicando técnicas de PLN, que consiga classificar através de um texto o assunto conforme disponível na base de dados [1] para treinamento e validação do modelo seu modelo.​\n",
        "\n",
        "O modelo precisar atingir um score na **métrica F1 Score superior a 75%**. Utilize o dataset [1] para treinar e testar o modelo, separe o dataset em duas amostras (75% para treinamento e 25% para teste com o randon_state igual a 42).​\n",
        "\n",
        "Fique à vontade para testar e explorar as técnicas de pré-processamento, abordagens de NLP, algoritmos e bibliotecas, mas explique e justifique as suas decisões durante o desenvolvimento.​\n",
        "\n",
        "**Composição da nota:​**\n",
        "\n",
        "**50%** - Demonstrações das aplicações das técnicas de PLN (regras, pré-processamentos, tratamentos, variedade de modelos aplicados, organização do pipeline, etc.)​\n",
        "\n",
        "**50%** - Baseado na performance (score) obtida com a amostra de teste no pipeline do modelo campeão (validar com  a Métrica F1 Score). **Separar o pipeline completo do modelo campeão conforme template.​**\n",
        "\n",
        "**[1] = ​https://dados-ml-pln.s3.sa-east-1.amazonaws.com/tickets_reclamacoes_classificados.csv**\n",
        "\n",
        "Obs.: Para a métrica F1 Score, usar o parâmetro average = 'weighted'.\n",
        "\n",
        "https://scikit-learn.org/stable/modules/generated/sklearn.metrics.f1_score.html"
      ]
    },
    {
      "cell_type": "code",
      "source": [
        "# instalações de pacotes\n",
        "!pip install spacy\n",
        "!python -m spacy download pt"
      ],
      "metadata": {
        "colab": {
          "base_uri": "https://localhost:8080/"
        },
        "id": "pJtg6yHwG0vy",
        "outputId": "a7c70e3c-a2a3-43ec-f8eb-d50bf069507e"
      },
      "execution_count": 1,
      "outputs": [
        {
          "output_type": "stream",
          "name": "stdout",
          "text": [
            "Looking in indexes: https://pypi.org/simple, https://us-python.pkg.dev/colab-wheels/public/simple/\n",
            "Requirement already satisfied: spacy in /usr/local/lib/python3.9/dist-packages (3.5.1)\n",
            "Requirement already satisfied: thinc<8.2.0,>=8.1.8 in /usr/local/lib/python3.9/dist-packages (from spacy) (8.1.9)\n",
            "Requirement already satisfied: pydantic!=1.8,!=1.8.1,<1.11.0,>=1.7.4 in /usr/local/lib/python3.9/dist-packages (from spacy) (1.10.6)\n",
            "Requirement already satisfied: requests<3.0.0,>=2.13.0 in /usr/local/lib/python3.9/dist-packages (from spacy) (2.27.1)\n",
            "Requirement already satisfied: spacy-loggers<2.0.0,>=1.0.0 in /usr/local/lib/python3.9/dist-packages (from spacy) (1.0.4)\n",
            "Requirement already satisfied: murmurhash<1.1.0,>=0.28.0 in /usr/local/lib/python3.9/dist-packages (from spacy) (1.0.9)\n",
            "Requirement already satisfied: cymem<2.1.0,>=2.0.2 in /usr/local/lib/python3.9/dist-packages (from spacy) (2.0.7)\n",
            "Requirement already satisfied: langcodes<4.0.0,>=3.2.0 in /usr/local/lib/python3.9/dist-packages (from spacy) (3.3.0)\n",
            "Requirement already satisfied: numpy>=1.15.0 in /usr/local/lib/python3.9/dist-packages (from spacy) (1.22.4)\n",
            "Requirement already satisfied: packaging>=20.0 in /usr/local/lib/python3.9/dist-packages (from spacy) (23.0)\n",
            "Requirement already satisfied: srsly<3.0.0,>=2.4.3 in /usr/local/lib/python3.9/dist-packages (from spacy) (2.4.6)\n",
            "Requirement already satisfied: spacy-legacy<3.1.0,>=3.0.11 in /usr/local/lib/python3.9/dist-packages (from spacy) (3.0.12)\n",
            "Requirement already satisfied: wasabi<1.2.0,>=0.9.1 in /usr/local/lib/python3.9/dist-packages (from spacy) (1.1.1)\n",
            "Requirement already satisfied: catalogue<2.1.0,>=2.0.6 in /usr/local/lib/python3.9/dist-packages (from spacy) (2.0.8)\n",
            "Requirement already satisfied: typer<0.8.0,>=0.3.0 in /usr/local/lib/python3.9/dist-packages (from spacy) (0.7.0)\n",
            "Requirement already satisfied: tqdm<5.0.0,>=4.38.0 in /usr/local/lib/python3.9/dist-packages (from spacy) (4.65.0)\n",
            "Requirement already satisfied: jinja2 in /usr/local/lib/python3.9/dist-packages (from spacy) (3.1.2)\n",
            "Requirement already satisfied: smart-open<7.0.0,>=5.2.1 in /usr/local/lib/python3.9/dist-packages (from spacy) (6.3.0)\n",
            "Requirement already satisfied: pathy>=0.10.0 in /usr/local/lib/python3.9/dist-packages (from spacy) (0.10.1)\n",
            "Requirement already satisfied: setuptools in /usr/local/lib/python3.9/dist-packages (from spacy) (63.4.3)\n",
            "Requirement already satisfied: preshed<3.1.0,>=3.0.2 in /usr/local/lib/python3.9/dist-packages (from spacy) (3.0.8)\n",
            "Requirement already satisfied: typing-extensions>=4.2.0 in /usr/local/lib/python3.9/dist-packages (from pydantic!=1.8,!=1.8.1,<1.11.0,>=1.7.4->spacy) (4.5.0)\n",
            "Requirement already satisfied: idna<4,>=2.5 in /usr/local/lib/python3.9/dist-packages (from requests<3.0.0,>=2.13.0->spacy) (3.4)\n",
            "Requirement already satisfied: urllib3<1.27,>=1.21.1 in /usr/local/lib/python3.9/dist-packages (from requests<3.0.0,>=2.13.0->spacy) (1.26.15)\n",
            "Requirement already satisfied: certifi>=2017.4.17 in /usr/local/lib/python3.9/dist-packages (from requests<3.0.0,>=2.13.0->spacy) (2022.12.7)\n",
            "Requirement already satisfied: charset-normalizer~=2.0.0 in /usr/local/lib/python3.9/dist-packages (from requests<3.0.0,>=2.13.0->spacy) (2.0.12)\n",
            "Requirement already satisfied: blis<0.8.0,>=0.7.8 in /usr/local/lib/python3.9/dist-packages (from thinc<8.2.0,>=8.1.8->spacy) (0.7.9)\n",
            "Requirement already satisfied: confection<1.0.0,>=0.0.1 in /usr/local/lib/python3.9/dist-packages (from thinc<8.2.0,>=8.1.8->spacy) (0.0.4)\n",
            "Requirement already satisfied: click<9.0.0,>=7.1.1 in /usr/local/lib/python3.9/dist-packages (from typer<0.8.0,>=0.3.0->spacy) (8.1.3)\n",
            "Requirement already satisfied: MarkupSafe>=2.0 in /usr/local/lib/python3.9/dist-packages (from jinja2->spacy) (2.1.2)\n",
            "2023-03-22 00:38:31.169796: I tensorflow/core/platform/cpu_feature_guard.cc:193] This TensorFlow binary is optimized with oneAPI Deep Neural Network Library (oneDNN) to use the following CPU instructions in performance-critical operations:  AVX2 FMA\n",
            "To enable them in other operations, rebuild TensorFlow with the appropriate compiler flags.\n",
            "2023-03-22 00:38:32.958311: W tensorflow/compiler/xla/stream_executor/platform/default/dso_loader.cc:64] Could not load dynamic library 'libnvinfer.so.7'; dlerror: libnvinfer.so.7: cannot open shared object file: No such file or directory; LD_LIBRARY_PATH: /usr/lib64-nvidia\n",
            "2023-03-22 00:38:32.958454: W tensorflow/compiler/xla/stream_executor/platform/default/dso_loader.cc:64] Could not load dynamic library 'libnvinfer_plugin.so.7'; dlerror: libnvinfer_plugin.so.7: cannot open shared object file: No such file or directory; LD_LIBRARY_PATH: /usr/lib64-nvidia\n",
            "2023-03-22 00:38:32.958481: W tensorflow/compiler/tf2tensorrt/utils/py_utils.cc:38] TF-TRT Warning: Cannot dlopen some TensorRT libraries. If you would like to use Nvidia GPU with TensorRT, please make sure the missing libraries mentioned above are installed properly.\n",
            "\u001b[38;5;3m⚠ As of spaCy v3.0, shortcuts like 'pt' are deprecated. Please use the\n",
            "full pipeline package name 'pt_core_news_sm' instead.\u001b[0m\n",
            "Looking in indexes: https://pypi.org/simple, https://us-python.pkg.dev/colab-wheels/public/simple/\n",
            "Collecting pt-core-news-sm==3.5.0\n",
            "  Downloading https://github.com/explosion/spacy-models/releases/download/pt_core_news_sm-3.5.0/pt_core_news_sm-3.5.0-py3-none-any.whl (13.0 MB)\n",
            "\u001b[2K     \u001b[90m━━━━━━━━━━━━━━━━━━━━━━━━━━━━━━━━━━━━━━━━\u001b[0m \u001b[32m13.0/13.0 MB\u001b[0m \u001b[31m84.3 MB/s\u001b[0m eta \u001b[36m0:00:00\u001b[0m\n",
            "\u001b[?25hRequirement already satisfied: spacy<3.6.0,>=3.5.0 in /usr/local/lib/python3.9/dist-packages (from pt-core-news-sm==3.5.0) (3.5.1)\n",
            "Requirement already satisfied: spacy-loggers<2.0.0,>=1.0.0 in /usr/local/lib/python3.9/dist-packages (from spacy<3.6.0,>=3.5.0->pt-core-news-sm==3.5.0) (1.0.4)\n",
            "Requirement already satisfied: preshed<3.1.0,>=3.0.2 in /usr/local/lib/python3.9/dist-packages (from spacy<3.6.0,>=3.5.0->pt-core-news-sm==3.5.0) (3.0.8)\n",
            "Requirement already satisfied: spacy-legacy<3.1.0,>=3.0.11 in /usr/local/lib/python3.9/dist-packages (from spacy<3.6.0,>=3.5.0->pt-core-news-sm==3.5.0) (3.0.12)\n",
            "Requirement already satisfied: cymem<2.1.0,>=2.0.2 in /usr/local/lib/python3.9/dist-packages (from spacy<3.6.0,>=3.5.0->pt-core-news-sm==3.5.0) (2.0.7)\n",
            "Requirement already satisfied: wasabi<1.2.0,>=0.9.1 in /usr/local/lib/python3.9/dist-packages (from spacy<3.6.0,>=3.5.0->pt-core-news-sm==3.5.0) (1.1.1)\n",
            "Requirement already satisfied: pydantic!=1.8,!=1.8.1,<1.11.0,>=1.7.4 in /usr/local/lib/python3.9/dist-packages (from spacy<3.6.0,>=3.5.0->pt-core-news-sm==3.5.0) (1.10.6)\n",
            "Requirement already satisfied: srsly<3.0.0,>=2.4.3 in /usr/local/lib/python3.9/dist-packages (from spacy<3.6.0,>=3.5.0->pt-core-news-sm==3.5.0) (2.4.6)\n",
            "Requirement already satisfied: smart-open<7.0.0,>=5.2.1 in /usr/local/lib/python3.9/dist-packages (from spacy<3.6.0,>=3.5.0->pt-core-news-sm==3.5.0) (6.3.0)\n",
            "Requirement already satisfied: tqdm<5.0.0,>=4.38.0 in /usr/local/lib/python3.9/dist-packages (from spacy<3.6.0,>=3.5.0->pt-core-news-sm==3.5.0) (4.65.0)\n",
            "Requirement already satisfied: jinja2 in /usr/local/lib/python3.9/dist-packages (from spacy<3.6.0,>=3.5.0->pt-core-news-sm==3.5.0) (3.1.2)\n",
            "Requirement already satisfied: numpy>=1.15.0 in /usr/local/lib/python3.9/dist-packages (from spacy<3.6.0,>=3.5.0->pt-core-news-sm==3.5.0) (1.22.4)\n",
            "Requirement already satisfied: requests<3.0.0,>=2.13.0 in /usr/local/lib/python3.9/dist-packages (from spacy<3.6.0,>=3.5.0->pt-core-news-sm==3.5.0) (2.27.1)\n",
            "Requirement already satisfied: setuptools in /usr/local/lib/python3.9/dist-packages (from spacy<3.6.0,>=3.5.0->pt-core-news-sm==3.5.0) (63.4.3)\n",
            "Requirement already satisfied: packaging>=20.0 in /usr/local/lib/python3.9/dist-packages (from spacy<3.6.0,>=3.5.0->pt-core-news-sm==3.5.0) (23.0)\n",
            "Requirement already satisfied: typer<0.8.0,>=0.3.0 in /usr/local/lib/python3.9/dist-packages (from spacy<3.6.0,>=3.5.0->pt-core-news-sm==3.5.0) (0.7.0)\n",
            "Requirement already satisfied: langcodes<4.0.0,>=3.2.0 in /usr/local/lib/python3.9/dist-packages (from spacy<3.6.0,>=3.5.0->pt-core-news-sm==3.5.0) (3.3.0)\n",
            "Requirement already satisfied: murmurhash<1.1.0,>=0.28.0 in /usr/local/lib/python3.9/dist-packages (from spacy<3.6.0,>=3.5.0->pt-core-news-sm==3.5.0) (1.0.9)\n",
            "Requirement already satisfied: thinc<8.2.0,>=8.1.8 in /usr/local/lib/python3.9/dist-packages (from spacy<3.6.0,>=3.5.0->pt-core-news-sm==3.5.0) (8.1.9)\n",
            "Requirement already satisfied: pathy>=0.10.0 in /usr/local/lib/python3.9/dist-packages (from spacy<3.6.0,>=3.5.0->pt-core-news-sm==3.5.0) (0.10.1)\n",
            "Requirement already satisfied: catalogue<2.1.0,>=2.0.6 in /usr/local/lib/python3.9/dist-packages (from spacy<3.6.0,>=3.5.0->pt-core-news-sm==3.5.0) (2.0.8)\n",
            "Requirement already satisfied: typing-extensions>=4.2.0 in /usr/local/lib/python3.9/dist-packages (from pydantic!=1.8,!=1.8.1,<1.11.0,>=1.7.4->spacy<3.6.0,>=3.5.0->pt-core-news-sm==3.5.0) (4.5.0)\n",
            "Requirement already satisfied: urllib3<1.27,>=1.21.1 in /usr/local/lib/python3.9/dist-packages (from requests<3.0.0,>=2.13.0->spacy<3.6.0,>=3.5.0->pt-core-news-sm==3.5.0) (1.26.15)\n",
            "Requirement already satisfied: charset-normalizer~=2.0.0 in /usr/local/lib/python3.9/dist-packages (from requests<3.0.0,>=2.13.0->spacy<3.6.0,>=3.5.0->pt-core-news-sm==3.5.0) (2.0.12)\n",
            "Requirement already satisfied: idna<4,>=2.5 in /usr/local/lib/python3.9/dist-packages (from requests<3.0.0,>=2.13.0->spacy<3.6.0,>=3.5.0->pt-core-news-sm==3.5.0) (3.4)\n",
            "Requirement already satisfied: certifi>=2017.4.17 in /usr/local/lib/python3.9/dist-packages (from requests<3.0.0,>=2.13.0->spacy<3.6.0,>=3.5.0->pt-core-news-sm==3.5.0) (2022.12.7)\n",
            "Requirement already satisfied: confection<1.0.0,>=0.0.1 in /usr/local/lib/python3.9/dist-packages (from thinc<8.2.0,>=8.1.8->spacy<3.6.0,>=3.5.0->pt-core-news-sm==3.5.0) (0.0.4)\n",
            "Requirement already satisfied: blis<0.8.0,>=0.7.8 in /usr/local/lib/python3.9/dist-packages (from thinc<8.2.0,>=8.1.8->spacy<3.6.0,>=3.5.0->pt-core-news-sm==3.5.0) (0.7.9)\n",
            "Requirement already satisfied: click<9.0.0,>=7.1.1 in /usr/local/lib/python3.9/dist-packages (from typer<0.8.0,>=0.3.0->spacy<3.6.0,>=3.5.0->pt-core-news-sm==3.5.0) (8.1.3)\n",
            "Requirement already satisfied: MarkupSafe>=2.0 in /usr/local/lib/python3.9/dist-packages (from jinja2->spacy<3.6.0,>=3.5.0->pt-core-news-sm==3.5.0) (2.1.2)\n",
            "Installing collected packages: pt-core-news-sm\n",
            "Successfully installed pt-core-news-sm-3.5.0\n",
            "\u001b[38;5;2m✔ Download and installation successful\u001b[0m\n",
            "You can now load the package via spacy.load('pt_core_news_sm')\n"
          ]
        }
      ]
    },
    {
      "cell_type": "code",
      "source": [
        "#import de bibliotecas\n",
        "import spacy\n",
        "import pandas as pd\n",
        "from sklearn.metrics import f1_score\n",
        "from sklearn.feature_extraction.text import TfidfVectorizer, CountVectorizer\n",
        "from sklearn.metrics import accuracy_score\n",
        "from sklearn.linear_model import LogisticRegression\n",
        "from sklearn.tree import DecisionTreeClassifier\n",
        "from sklearn.naive_bayes import MultinomialNB\n",
        "from sklearn.ensemble import RandomForestClassifier\n",
        "\n",
        "from sklearn.model_selection import train_test_split\n",
        "\n",
        "import re\n",
        "import spacy\n",
        "import nltk\n",
        "\n"
      ],
      "metadata": {
        "id": "Mla3DhPTF80U"
      },
      "execution_count": 2,
      "outputs": []
    },
    {
      "cell_type": "code",
      "metadata": {
        "id": "DMBI8SQtps1n"
      },
      "source": [
        "# CARREGANDO O DATA FRAME\n",
        "df = pd.read_csv('https://dados-ml-pln.s3.sa-east-1.amazonaws.com/tickets_reclamacoes_classificados.csv', delimiter=';')\n",
        "\n",
        "# Façam o download do arquivo e utilizem localmente durante os testes"
      ],
      "execution_count": 16,
      "outputs": []
    },
    {
      "cell_type": "code",
      "metadata": {
        "colab": {
          "base_uri": "https://localhost:8080/"
        },
        "id": "s__lBzDQwrcG",
        "outputId": "0f5474cf-b31f-4f5c-989d-0d7bfd872f1b"
      },
      "source": [
        "df.info()"
      ],
      "execution_count": 17,
      "outputs": [
        {
          "output_type": "stream",
          "name": "stdout",
          "text": [
            "<class 'pandas.core.frame.DataFrame'>\n",
            "RangeIndex: 21072 entries, 0 to 21071\n",
            "Data columns (total 4 columns):\n",
            " #   Column                Non-Null Count  Dtype \n",
            "---  ------                --------------  ----- \n",
            " 0   id_reclamacao         21072 non-null  int64 \n",
            " 1   data_abertura         21072 non-null  object\n",
            " 2   categoria             21072 non-null  object\n",
            " 3   descricao_reclamacao  21072 non-null  object\n",
            "dtypes: int64(1), object(3)\n",
            "memory usage: 658.6+ KB\n"
          ]
        }
      ]
    },
    {
      "cell_type": "markdown",
      "metadata": {
        "id": "FyKC9Vhkp0BK"
      },
      "source": [
        "Bom desenvolvimento!"
      ]
    },
    {
      "cell_type": "code",
      "source": [
        "df.head()"
      ],
      "metadata": {
        "colab": {
          "base_uri": "https://localhost:8080/",
          "height": 206
        },
        "id": "-JbOWsHXJFvb",
        "outputId": "cad6800a-abdf-4ccf-a63c-37d0a8e37539"
      },
      "execution_count": 18,
      "outputs": [
        {
          "output_type": "execute_result",
          "data": {
            "text/plain": [
              "   id_reclamacao              data_abertura  \\\n",
              "0        3229299  2019-05-01T12:00:00-05:00   \n",
              "1        3199379  2019-04-02T12:00:00-05:00   \n",
              "2        3233499  2019-05-06T12:00:00-05:00   \n",
              "3        3180294  2019-03-14T12:00:00-05:00   \n",
              "4        3224980  2019-04-27T12:00:00-05:00   \n",
              "\n",
              "                             categoria  \\\n",
              "0              Hipotecas / Empréstimos   \n",
              "1  Cartão de crédito / Cartão pré-pago   \n",
              "2  Cartão de crédito / Cartão pré-pago   \n",
              "3  Cartão de crédito / Cartão pré-pago   \n",
              "4           Serviços de conta bancária   \n",
              "\n",
              "                                descricao_reclamacao  \n",
              "0  Bom dia, meu nome é xxxx xxxx e agradeço se vo...  \n",
              "1  Atualizei meu cartão xxxx xxxx em xx/xx/2018 e...  \n",
              "2  O cartão Chase foi relatado em xx/xx/2019. No ...  \n",
              "3  Em xx/xx/2018, enquanto tentava reservar um ti...  \n",
              "4  Meu neto me dê cheque por {$ 1600,00} Eu depos...  "
            ],
            "text/html": [
              "\n",
              "  <div id=\"df-3673b634-3f09-435a-adfa-0df544ade44e\">\n",
              "    <div class=\"colab-df-container\">\n",
              "      <div>\n",
              "<style scoped>\n",
              "    .dataframe tbody tr th:only-of-type {\n",
              "        vertical-align: middle;\n",
              "    }\n",
              "\n",
              "    .dataframe tbody tr th {\n",
              "        vertical-align: top;\n",
              "    }\n",
              "\n",
              "    .dataframe thead th {\n",
              "        text-align: right;\n",
              "    }\n",
              "</style>\n",
              "<table border=\"1\" class=\"dataframe\">\n",
              "  <thead>\n",
              "    <tr style=\"text-align: right;\">\n",
              "      <th></th>\n",
              "      <th>id_reclamacao</th>\n",
              "      <th>data_abertura</th>\n",
              "      <th>categoria</th>\n",
              "      <th>descricao_reclamacao</th>\n",
              "    </tr>\n",
              "  </thead>\n",
              "  <tbody>\n",
              "    <tr>\n",
              "      <th>0</th>\n",
              "      <td>3229299</td>\n",
              "      <td>2019-05-01T12:00:00-05:00</td>\n",
              "      <td>Hipotecas / Empréstimos</td>\n",
              "      <td>Bom dia, meu nome é xxxx xxxx e agradeço se vo...</td>\n",
              "    </tr>\n",
              "    <tr>\n",
              "      <th>1</th>\n",
              "      <td>3199379</td>\n",
              "      <td>2019-04-02T12:00:00-05:00</td>\n",
              "      <td>Cartão de crédito / Cartão pré-pago</td>\n",
              "      <td>Atualizei meu cartão xxxx xxxx em xx/xx/2018 e...</td>\n",
              "    </tr>\n",
              "    <tr>\n",
              "      <th>2</th>\n",
              "      <td>3233499</td>\n",
              "      <td>2019-05-06T12:00:00-05:00</td>\n",
              "      <td>Cartão de crédito / Cartão pré-pago</td>\n",
              "      <td>O cartão Chase foi relatado em xx/xx/2019. No ...</td>\n",
              "    </tr>\n",
              "    <tr>\n",
              "      <th>3</th>\n",
              "      <td>3180294</td>\n",
              "      <td>2019-03-14T12:00:00-05:00</td>\n",
              "      <td>Cartão de crédito / Cartão pré-pago</td>\n",
              "      <td>Em xx/xx/2018, enquanto tentava reservar um ti...</td>\n",
              "    </tr>\n",
              "    <tr>\n",
              "      <th>4</th>\n",
              "      <td>3224980</td>\n",
              "      <td>2019-04-27T12:00:00-05:00</td>\n",
              "      <td>Serviços de conta bancária</td>\n",
              "      <td>Meu neto me dê cheque por {$ 1600,00} Eu depos...</td>\n",
              "    </tr>\n",
              "  </tbody>\n",
              "</table>\n",
              "</div>\n",
              "      <button class=\"colab-df-convert\" onclick=\"convertToInteractive('df-3673b634-3f09-435a-adfa-0df544ade44e')\"\n",
              "              title=\"Convert this dataframe to an interactive table.\"\n",
              "              style=\"display:none;\">\n",
              "        \n",
              "  <svg xmlns=\"http://www.w3.org/2000/svg\" height=\"24px\"viewBox=\"0 0 24 24\"\n",
              "       width=\"24px\">\n",
              "    <path d=\"M0 0h24v24H0V0z\" fill=\"none\"/>\n",
              "    <path d=\"M18.56 5.44l.94 2.06.94-2.06 2.06-.94-2.06-.94-.94-2.06-.94 2.06-2.06.94zm-11 1L8.5 8.5l.94-2.06 2.06-.94-2.06-.94L8.5 2.5l-.94 2.06-2.06.94zm10 10l.94 2.06.94-2.06 2.06-.94-2.06-.94-.94-2.06-.94 2.06-2.06.94z\"/><path d=\"M17.41 7.96l-1.37-1.37c-.4-.4-.92-.59-1.43-.59-.52 0-1.04.2-1.43.59L10.3 9.45l-7.72 7.72c-.78.78-.78 2.05 0 2.83L4 21.41c.39.39.9.59 1.41.59.51 0 1.02-.2 1.41-.59l7.78-7.78 2.81-2.81c.8-.78.8-2.07 0-2.86zM5.41 20L4 18.59l7.72-7.72 1.47 1.35L5.41 20z\"/>\n",
              "  </svg>\n",
              "      </button>\n",
              "      \n",
              "  <style>\n",
              "    .colab-df-container {\n",
              "      display:flex;\n",
              "      flex-wrap:wrap;\n",
              "      gap: 12px;\n",
              "    }\n",
              "\n",
              "    .colab-df-convert {\n",
              "      background-color: #E8F0FE;\n",
              "      border: none;\n",
              "      border-radius: 50%;\n",
              "      cursor: pointer;\n",
              "      display: none;\n",
              "      fill: #1967D2;\n",
              "      height: 32px;\n",
              "      padding: 0 0 0 0;\n",
              "      width: 32px;\n",
              "    }\n",
              "\n",
              "    .colab-df-convert:hover {\n",
              "      background-color: #E2EBFA;\n",
              "      box-shadow: 0px 1px 2px rgba(60, 64, 67, 0.3), 0px 1px 3px 1px rgba(60, 64, 67, 0.15);\n",
              "      fill: #174EA6;\n",
              "    }\n",
              "\n",
              "    [theme=dark] .colab-df-convert {\n",
              "      background-color: #3B4455;\n",
              "      fill: #D2E3FC;\n",
              "    }\n",
              "\n",
              "    [theme=dark] .colab-df-convert:hover {\n",
              "      background-color: #434B5C;\n",
              "      box-shadow: 0px 1px 3px 1px rgba(0, 0, 0, 0.15);\n",
              "      filter: drop-shadow(0px 1px 2px rgba(0, 0, 0, 0.3));\n",
              "      fill: #FFFFFF;\n",
              "    }\n",
              "  </style>\n",
              "\n",
              "      <script>\n",
              "        const buttonEl =\n",
              "          document.querySelector('#df-3673b634-3f09-435a-adfa-0df544ade44e button.colab-df-convert');\n",
              "        buttonEl.style.display =\n",
              "          google.colab.kernel.accessAllowed ? 'block' : 'none';\n",
              "\n",
              "        async function convertToInteractive(key) {\n",
              "          const element = document.querySelector('#df-3673b634-3f09-435a-adfa-0df544ade44e');\n",
              "          const dataTable =\n",
              "            await google.colab.kernel.invokeFunction('convertToInteractive',\n",
              "                                                     [key], {});\n",
              "          if (!dataTable) return;\n",
              "\n",
              "          const docLinkHtml = 'Like what you see? Visit the ' +\n",
              "            '<a target=\"_blank\" href=https://colab.research.google.com/notebooks/data_table.ipynb>data table notebook</a>'\n",
              "            + ' to learn more about interactive tables.';\n",
              "          element.innerHTML = '';\n",
              "          dataTable['output_type'] = 'display_data';\n",
              "          await google.colab.output.renderOutput(dataTable, element);\n",
              "          const docLink = document.createElement('div');\n",
              "          docLink.innerHTML = docLinkHtml;\n",
              "          element.appendChild(docLink);\n",
              "        }\n",
              "      </script>\n",
              "    </div>\n",
              "  </div>\n",
              "  "
            ]
          },
          "metadata": {},
          "execution_count": 18
        }
      ]
    },
    {
      "cell_type": "code",
      "source": [
        "df.shape"
      ],
      "metadata": {
        "colab": {
          "base_uri": "https://localhost:8080/"
        },
        "id": "uID-EB4wGJb3",
        "outputId": "8ee61903-013a-476d-cecc-2e77b791e70d"
      },
      "execution_count": 19,
      "outputs": [
        {
          "output_type": "execute_result",
          "data": {
            "text/plain": [
              "(21072, 4)"
            ]
          },
          "metadata": {},
          "execution_count": 19
        }
      ]
    },
    {
      "cell_type": "code",
      "source": [
        "# aqui é melhor equilibrar a base de dados\n",
        "df.categoria.value_counts()"
      ],
      "metadata": {
        "colab": {
          "base_uri": "https://localhost:8080/"
        },
        "id": "pEYLtyJNIO26",
        "outputId": "fe0f5134-b2b5-4297-c1b6-981347d8177d"
      },
      "execution_count": 20,
      "outputs": [
        {
          "output_type": "execute_result",
          "data": {
            "text/plain": [
              "Serviços de conta bancária             5161\n",
              "Cartão de crédito / Cartão pré-pago    5006\n",
              "Roubo / Relatório de disputa           4822\n",
              "Hipotecas / Empréstimos                3850\n",
              "Outros                                 2233\n",
              "Name: categoria, dtype: int64"
            ]
          },
          "metadata": {},
          "execution_count": 20
        }
      ]
    },
    {
      "cell_type": "code",
      "metadata": {
        "id": "nze8UbKhosm9"
      },
      "source": [
        "nlp = spacy.load(\"pt_core_news_sm\")"
      ],
      "execution_count": 21,
      "outputs": []
    },
    {
      "cell_type": "code",
      "source": [
        "#remover o XXXX\n",
        "def limpar_textos(texto):\n",
        "  texto = re.sub(r'[,.:;]', '', texto)\n",
        "  texto = re.sub(r'\\n', ' ', texto)\n",
        "  texto = re.sub(r'[xxxx]', '', texto)\n",
        "  texto = re.sub('\\\\s+', ' ', texto)\n",
        "  texto = re.sub(u'[^a-zA-ZéúíóáÉÚÍÓÁèùìòàÈÙÌÒÀõãñÕÃÑêûîôâÊÛÎÔÂëÿüïöäËYÜÏÖÄçÇ ]', '', texto)\n",
        "  texto = texto.strip().lower()\n",
        "  return texto"
      ],
      "metadata": {
        "id": "G39iZMQjZuQc"
      },
      "execution_count": 22,
      "outputs": []
    },
    {
      "cell_type": "code",
      "metadata": {
        "id": "ue0nV0uVo3OZ"
      },
      "source": [
        "# função de lematização completa do documento\n",
        "def lematiza_texto(texto: str):\n",
        "  sent = []\n",
        "  doc = nlp(texto)\n",
        "  for word in doc:\n",
        "    sent.append(word.lemma_)\n",
        "  return \" \".join(sent)\n",
        "\n",
        "# função de lematização de verbos do documento\n",
        "def lematiza_verbos(texto:str):\n",
        "  sent = []\n",
        "  doc = nlp(texto)\n",
        "  for word in doc:\n",
        "    if word.pos_ == \"VERB\":\n",
        "      sent.append(word.lemma_)\n",
        "    else:\n",
        "      sent.append(word.text)\n",
        "  return \" \".join(sent)\n"
      ],
      "execution_count": 23,
      "outputs": []
    },
    {
      "cell_type": "code",
      "source": [
        "df[\"text_treat\"] = df.descricao_reclamacao.apply(limpar_textos)"
      ],
      "metadata": {
        "id": "F1oBcHJGb60b"
      },
      "execution_count": 24,
      "outputs": []
    },
    {
      "cell_type": "code",
      "source": [
        "df.text_treat.head()"
      ],
      "metadata": {
        "id": "27eXlrY-j2tx",
        "outputId": "83a60c7f-c065-4436-84a6-73a37840f0a7",
        "colab": {
          "base_uri": "https://localhost:8080/"
        }
      },
      "execution_count": 26,
      "outputs": [
        {
          "output_type": "execute_result",
          "data": {
            "text/plain": [
              "0    bom dia meu nome é e agradeço se você puder me...\n",
              "1    atualizei meu cartão em  e fui informado pelo ...\n",
              "2    o cartão chase foi relatado em  no entanto o p...\n",
              "3    em  enquanto tentava reservar um ticket me dep...\n",
              "4    meu neto me dê cheque por   eu depositei o na ...\n",
              "Name: text_treat, dtype: object"
            ]
          },
          "metadata": {},
          "execution_count": 26
        }
      ]
    },
    {
      "cell_type": "code",
      "source": [
        "# divisão das amostras em treino e teste\n",
        "df_raw, df_amostra = train_test_split(df, \n",
        "                                       test_size=0.1, \n",
        "                                       random_state=42)"
      ],
      "metadata": {
        "id": "Fb_KJhhKynrM"
      },
      "execution_count": 27,
      "outputs": []
    },
    {
      "cell_type": "code",
      "metadata": {
        "id": "FziwgqJmw9OD"
      },
      "source": [
        "# aplica a lematização de no dataframe criando novas colunas\n",
        "df_amostra[\"text_lemma\"] = df_amostra.text_treat.apply(lematiza_texto)"
      ],
      "execution_count": 28,
      "outputs": []
    },
    {
      "cell_type": "code",
      "metadata": {
        "id": "25cBRwGAw8-1"
      },
      "source": [
        "# aplica a lematização de no dataframe criando novas colunas\n",
        "df_amostra[\"text_lemma_verbos\"] = df_amostra.text_treat.apply(lematiza_verbos)"
      ],
      "execution_count": 29,
      "outputs": []
    },
    {
      "cell_type": "code",
      "source": [
        "# divisão das amostras em treino e teste\n",
        "df_treino, df_teste = train_test_split(df_amostra, \n",
        "                                       test_size=0.3, \n",
        "                                       random_state=42)"
      ],
      "metadata": {
        "id": "ONAbwPqj9Dpi"
      },
      "execution_count": 30,
      "outputs": []
    },
    {
      "cell_type": "code",
      "source": [
        "# Regressão Logistica com lematização em verbos\n",
        "\n",
        "nltk.download('stopwords')\n",
        "nlp = spacy.load('pt_core_news_sm')\n",
        "\n",
        "#stopwords combinadas\n",
        "stops_spacy = nlp.Defaults.stop_words\n",
        "stops_nltk = nltk.corpus.stopwords.words('portuguese')\n",
        "stops = list(set(stops_spacy).union(set(stops_nltk)))\n",
        "\n",
        "# vetorização com Tfid\n",
        "vetor_tfid = TfidfVectorizer(ngram_range=(1,1), use_idf=True, stop_words=stops, norm='l2')\n",
        "vetor_tfid.fit(df_treino.text_lemma)\n",
        "text_vect_treino = vetor_tfid.transform(df_treino.text_lemma)\n",
        "\n",
        "#treina modelo\n",
        "linear_model = LogisticRegression(random_state=42, class_weight='balanced')\n",
        "linear_model.fit(text_vect_treino, df_treino[\"categoria\"])# aqui eu treino no modelo Decision tree associando minhas features e targets\n",
        "\n",
        "# testa e verifica a predição\n",
        "text_vect_test = vetor_tfid.transform(df_teste.text_lemma)\n",
        "pred = linear_model.predict(text_vect_test)\n",
        "\n",
        "# mede acuracia\n",
        "accuracy = accuracy_score(pred, df_teste['categoria'])\n"
      ],
      "metadata": {
        "colab": {
          "base_uri": "https://localhost:8080/"
        },
        "id": "B-Sf8Bv69b8g",
        "outputId": "12328a38-5814-4c65-f3dc-af656530ed8a"
      },
      "execution_count": 31,
      "outputs": [
        {
          "output_type": "stream",
          "name": "stderr",
          "text": [
            "[nltk_data] Downloading package stopwords to /root/nltk_data...\n",
            "[nltk_data]   Unzipping corpora/stopwords.zip.\n"
          ]
        }
      ]
    },
    {
      "cell_type": "code",
      "source": [
        "f1_score(df_teste['categoria'], pred, average='weighted')"
      ],
      "metadata": {
        "colab": {
          "base_uri": "https://localhost:8080/"
        },
        "id": "Tlb9o5B4AV3C",
        "outputId": "1f609ea5-470e-484e-842e-c94648a663ba"
      },
      "execution_count": 34,
      "outputs": [
        {
          "output_type": "execute_result",
          "data": {
            "text/plain": [
              "0.8985692993239285"
            ]
          },
          "metadata": {},
          "execution_count": 34
        }
      ]
    },
    {
      "cell_type": "code",
      "source": [
        "from nltk.stem.snowball import stopwords\n",
        "#Contagem de termos\n",
        "vect = CountVectorizer(ngram_range=(1,1))\n",
        "vect = CountVectorizer(ngram_range=(1,2))\n",
        "vect = CountVectorizer(ngram_range=(1,1), stop_words=stops)\n",
        "vect = CountVectorizer(ngram_range=(1,1), stop_words=stops_spacy)\n",
        "vect = CountVectorizer(ngram_range=(1,1), stop_words=stops_nltk)\n",
        "\n",
        "\n",
        "# Frequencia de Termos(TF)\n",
        "vect = TfidfVectorizer(ngram_range=(1,1), use_idf=False, norm='l1')\n",
        "vect = TfidfVectorizer(ngram_range=(1,2), use_idf=False)\n",
        "vect = TfidfVectorizer(ngram_range=(1,2), use_idf=False, stop_words=stops)\n",
        "vect = TfidfVectorizer(ngram_range=(1,2), use_idf=False, stop_words=stops_nltk)\n",
        "\n",
        "# Frequencia de termos invertida\n",
        "vect = TfidfVectorizer(ngram_range=(1,1), use_idf=True, norm='l1')\n",
        "vect = TfidfVectorizer(ngram_range=(1,2), use_idf=True, norm='l1')\n",
        "vect = TfidfVectorizer(ngram_range=(1,2), use_idf=True, norm='l2')\n",
        "vect = TfidfVectorizer(ngram_range=(1,2), use_idf=True, norm='l1', stop_words=stops)\n",
        "vect = TfidfVectorizer(ngram_range=(1,2), use_idf=True, norm='l2', stop_words=stops_spacy)\n",
        "\n",
        "\n",
        "\n"
      ],
      "metadata": {
        "id": "_mWAU55HdM-V"
      },
      "execution_count": 33,
      "outputs": []
    },
    {
      "cell_type": "code",
      "source": [
        "# Teste 2\n",
        "# vetorização com Tfid\n",
        "vetor_tfid = TfidfVectorizer(ngram_range=(1,2), use_idf=False, stop_words=list(stops_spacy), norm='l1')\n",
        "vetor_tfid.fit(df_treino.text_lemma)\n",
        "text_vect_treino = vetor_tfid.transform(df_treino.text_lemma)\n",
        "\n",
        "#treina modelo\n",
        "linear_model = LogisticRegression(random_state=42, class_weight='balanced')\n",
        "linear_model.fit(text_vect_treino, df_treino[\"categoria\"])# aqui eu treino no modelo Decision tree associando minhas features e targets\n",
        "\n",
        "# testa e verifica a predição\n",
        "text_vect_test = vetor_tfid.transform(df_teste.text_lemma)\n",
        "pred = linear_model.predict(text_vect_test)\n",
        "\n",
        "# mede acuracia\n",
        "accuracy = accuracy_score(pred, df_teste['categoria'])\n",
        "f1_score(df_teste['categoria'], pred, average='weighted')"
      ],
      "metadata": {
        "id": "WCAW-3nb2Y2v",
        "outputId": "9043a2b9-7dcb-4c25-ac10-b5ddab6b9d37",
        "colab": {
          "base_uri": "https://localhost:8080/"
        }
      },
      "execution_count": 36,
      "outputs": [
        {
          "output_type": "execute_result",
          "data": {
            "text/plain": [
              "0.7802398306030581"
            ]
          },
          "metadata": {},
          "execution_count": 36
        }
      ]
    },
    {
      "cell_type": "code",
      "source": [
        "# Teste 3\n",
        "# vetorização com Tfid\n",
        "vetor_tfid = TfidfVectorizer(ngram_range=(1,1), use_idf=False, stop_words=stops_nltk, norm='l2')\n",
        "vetor_tfid.fit(df_treino.text_lemma)\n",
        "text_vect_treino = vetor_tfid.transform(df_treino.text_lemma)\n",
        "\n",
        "#treina modelo\n",
        "linear_model = LogisticRegression(random_state=42, class_weight='balanced')\n",
        "linear_model.fit(text_vect_treino, df_treino[\"categoria\"])# aqui eu treino no modelo Decision tree associando minhas features e targets\n",
        "\n",
        "# testa e verifica a predição\n",
        "text_vect_test = vetor_tfid.transform(df_teste.text_lemma)\n",
        "pred = linear_model.predict(text_vect_test)\n",
        "\n",
        "# mede acuracia\n",
        "accuracy = accuracy_score(pred, df_teste['categoria'])\n",
        "f1_score(df_teste['categoria'], pred, average='weighted')"
      ],
      "metadata": {
        "id": "G_iOXVVj3iCn",
        "outputId": "4df077a5-f63d-4290-90aa-8ac28af99628",
        "colab": {
          "base_uri": "https://localhost:8080/"
        }
      },
      "execution_count": 39,
      "outputs": [
        {
          "output_type": "execute_result",
          "data": {
            "text/plain": [
              "0.8782722698021378"
            ]
          },
          "metadata": {},
          "execution_count": 39
        }
      ]
    },
    {
      "cell_type": "code",
      "source": [
        "# Teste 4\n",
        "# vetorização com Tfid\n",
        "vect = CountVectorizer(ngram_range=(1,1), stop_words=stops)\n",
        "vect.fit(df_treino.text_lemma)\n",
        "text_vect_treino = vect.transform(df_treino.text_lemma)\n",
        "\n",
        "#treina modelo\n",
        "linear_model = LogisticRegression(random_state=42, class_weight='balanced')\n",
        "linear_model.fit(text_vect_treino, df_treino[\"categoria\"])# aqui eu treino no modelo Decision tree associando minhas features e targets\n",
        "\n",
        "# testa e verifica a predição\n",
        "text_vect_test = vect.transform(df_teste.text_lemma)\n",
        "pred = linear_model.predict(text_vect_test)\n",
        "\n",
        "# mede acuracia\n",
        "accuracy = accuracy_score(pred, df_teste['categoria'])\n",
        "f1_score(df_teste['categoria'], pred, average='weighted')"
      ],
      "metadata": {
        "id": "yLo3XwyS308B",
        "outputId": "c5834aaa-b6ab-4274-cc40-8f6118fd5900",
        "colab": {
          "base_uri": "https://localhost:8080/"
        }
      },
      "execution_count": 40,
      "outputs": [
        {
          "output_type": "stream",
          "name": "stderr",
          "text": [
            "/usr/local/lib/python3.9/dist-packages/sklearn/linear_model/_logistic.py:458: ConvergenceWarning: lbfgs failed to converge (status=1):\n",
            "STOP: TOTAL NO. of ITERATIONS REACHED LIMIT.\n",
            "\n",
            "Increase the number of iterations (max_iter) or scale the data as shown in:\n",
            "    https://scikit-learn.org/stable/modules/preprocessing.html\n",
            "Please also refer to the documentation for alternative solver options:\n",
            "    https://scikit-learn.org/stable/modules/linear_model.html#logistic-regression\n",
            "  n_iter_i = _check_optimize_result(\n"
          ]
        },
        {
          "output_type": "execute_result",
          "data": {
            "text/plain": [
              "0.866905015625206"
            ]
          },
          "metadata": {},
          "execution_count": 40
        }
      ]
    },
    {
      "cell_type": "code",
      "source": [
        "# Teste 5\n",
        "# vetorização com Tfid\n",
        "vect = CountVectorizer(ngram_range=(1,1), stop_words=stops)\n",
        "vect.fit(df_treino.text_lemma_verbos)\n",
        "text_vect_treino = vect.transform(df_treino.text_lemma_verbos)\n",
        "\n",
        "#treina modelo\n",
        "linear_model = LogisticRegression(random_state=42, class_weight='balanced')\n",
        "linear_model.fit(text_vect_treino, df_treino[\"categoria\"])# aqui eu treino no modelo Decision tree associando minhas features e targets\n",
        "\n",
        "# testa e verifica a predição\n",
        "text_vect_test = vect.transform(df_teste.text_lemma_verbos)\n",
        "pred = linear_model.predict(text_vect_test)\n",
        "\n",
        "# mede acuracia\n",
        "accuracy = accuracy_score(pred, df_teste['categoria'])\n",
        "f1_score(df_teste['categoria'], pred, average='weighted')"
      ],
      "metadata": {
        "id": "gpud93th4h04",
        "outputId": "b2aeacb3-38ae-401a-9826-49623528877f",
        "colab": {
          "base_uri": "https://localhost:8080/"
        }
      },
      "execution_count": 42,
      "outputs": [
        {
          "output_type": "execute_result",
          "data": {
            "text/plain": [
              "0.855687415083321"
            ]
          },
          "metadata": {},
          "execution_count": 42
        }
      ]
    },
    {
      "cell_type": "code",
      "source": [
        "# Teste 6\n",
        "# vetorização com Tfid\n",
        "vect = CountVectorizer(ngram_range=(1,1), stop_words=stops)\n",
        "vect.fit(df_treino.text_lemma_verbos)\n",
        "text_vect_treino = vect.transform(df_treino.text_lemma_verbos)\n",
        "\n",
        "#treina modelo\n",
        "tree_model = DecisionTreeClassifier()\n",
        "tree_model.fit(text_vect_treino, df_treino[\"categoria\"])# aqui eu treino no modelo Decision tree associando minhas features e targets\n",
        "\n",
        "# testa e verifica a predição\n",
        "text_vect_test = vect.transform(df_teste.text_lemma_verbos)\n",
        "pred = tree_model.predict(text_vect_test)\n",
        "\n",
        "# mede acuracia\n",
        "accuracy = accuracy_score(pred, df_teste['categoria'])\n",
        "f1_score(df_teste['categoria'], pred, average='weighted')"
      ],
      "metadata": {
        "id": "txIwCcfg58mH",
        "outputId": "62ea5026-fff8-4f67-c295-a8a684926302",
        "colab": {
          "base_uri": "https://localhost:8080/"
        }
      },
      "execution_count": 43,
      "outputs": [
        {
          "output_type": "execute_result",
          "data": {
            "text/plain": [
              "0.6454306440697523"
            ]
          },
          "metadata": {},
          "execution_count": 43
        }
      ]
    },
    {
      "cell_type": "code",
      "source": [
        "# Teste 7\n",
        "# vetorização com Tfid\n",
        "vect = CountVectorizer(ngram_range=(1,2), stop_words=stops)\n",
        "vect.fit(df_treino.text_lemma_verbos)\n",
        "text_vect_treino = vect.transform(df_treino.text_lemma_verbos)\n",
        "\n",
        "#treina modelo\n",
        "tree_model = DecisionTreeClassifier()\n",
        "tree_model.fit(text_vect_treino, df_treino[\"categoria\"])# aqui eu treino no modelo Decision tree associando minhas features e targets\n",
        "\n",
        "# testa e verifica a predição\n",
        "text_vect_test = vect.transform(df_teste.text_lemma_verbos)\n",
        "pred = tree_model.predict(text_vect_test)\n",
        "\n",
        "# mede acuracia\n",
        "accuracy = accuracy_score(pred, df_teste['categoria'])\n",
        "f1_score(df_teste['categoria'], pred, average='weighted')"
      ],
      "metadata": {
        "id": "NaQXDlol6YQ_",
        "outputId": "e1a3ea6f-491f-48ae-e1a7-56efdb0b411f",
        "colab": {
          "base_uri": "https://localhost:8080/"
        }
      },
      "execution_count": 44,
      "outputs": [
        {
          "output_type": "execute_result",
          "data": {
            "text/plain": [
              "0.6404016210671335"
            ]
          },
          "metadata": {},
          "execution_count": 44
        }
      ]
    },
    {
      "cell_type": "code",
      "source": [
        "# Teste 8\n",
        "# vetorização com Tfid\n",
        "vect = CountVectorizer(ngram_range=(1,1), stop_words=stops)\n",
        "vect.fit(df_treino.text_lemma)\n",
        "text_vect_treino = vect.transform(df_treino.text_lemma)\n",
        "\n",
        "#treina modelo\n",
        "tree_model = DecisionTreeClassifier()\n",
        "tree_model.fit(text_vect_treino, df_treino[\"categoria\"])# aqui eu treino no modelo Decision tree associando minhas features e targets\n",
        "\n",
        "# testa e verifica a predição\n",
        "text_vect_test = vect.transform(df_teste.text_lemma)\n",
        "pred = tree_model.predict(text_vect_test)\n",
        "\n",
        "# mede acuracia\n",
        "accuracy = accuracy_score(pred, df_teste['categoria'])\n",
        "f1_score(df_teste['categoria'], pred, average='weighted')"
      ],
      "metadata": {
        "id": "5iwuMzUB6kBC",
        "outputId": "6236e7d2-745e-4603-8e46-614e321d9b9c",
        "colab": {
          "base_uri": "https://localhost:8080/"
        }
      },
      "execution_count": 45,
      "outputs": [
        {
          "output_type": "execute_result",
          "data": {
            "text/plain": [
              "0.6687604147553189"
            ]
          },
          "metadata": {},
          "execution_count": 45
        }
      ]
    },
    {
      "cell_type": "code",
      "source": [
        "# 9\n",
        "# vetorização com Tfid\n",
        "vect = CountVectorizer(ngram_range=(1,1), stop_words=stops)\n",
        "vect.fit(df_treino.text_lemma)\n",
        "text_vect_treino = vect.transform(df_treino.text_lemma)\n",
        "\n",
        "#treina modelo\n",
        "trees_model = RandomForestClassifier()\n",
        "trees_model.fit(text_vect_treino, df_treino[\"categoria\"])# aqui eu treino no modelo Decision tree associando minhas features e targets\n",
        "\n",
        "# testa e verifica a predição\n",
        "text_vect_test = vect.transform(df_teste.text_lemma)\n",
        "pred = trees_model.predict(text_vect_test)\n",
        "\n",
        "# mede acuracia\n",
        "accuracy = accuracy_score(pred, df_teste['categoria'])\n",
        "f1_score(df_teste['categoria'], pred, average='weighted')"
      ],
      "metadata": {
        "id": "Jwr_uCzp7Hqn",
        "outputId": "b44eee06-3962-4bea-c268-fa45b7488dc8",
        "colab": {
          "base_uri": "https://localhost:8080/"
        }
      },
      "execution_count": 46,
      "outputs": [
        {
          "output_type": "execute_result",
          "data": {
            "text/plain": [
              "0.7901213938656896"
            ]
          },
          "metadata": {},
          "execution_count": 46
        }
      ]
    },
    {
      "cell_type": "code",
      "source": [
        "# 10\n",
        "vect = CountVectorizer(ngram_range=(1,1), stop_words=stops)\n",
        "vect.fit(df_treino.text_lemma)\n",
        "text_vect_treino = vect.transform(df_treino.text_lemma)\n",
        "\n",
        "#treina modelo\n",
        "trees_model = RandomForestClassifier()\n",
        "trees_model.fit(text_vect_treino, df_treino[\"categoria\"])# aqui eu treino no modelo Decision tree associando minhas features e targets\n",
        "\n",
        "# testa e verifica a predição\n",
        "text_vect_test = vect.transform(df_teste.text_lemma)\n",
        "pred = trees_model.predict(text_vect_test)\n",
        "\n",
        "# mede acuracia\n",
        "accuracy = accuracy_score(pred, df_teste['categoria'])\n",
        "f1_score(df_teste['categoria'], pred, average='weighted')"
      ],
      "metadata": {
        "id": "AUQEh2Qh7d4-",
        "outputId": "21846f34-03af-4f6b-8fa8-b2c3bf526b5e",
        "colab": {
          "base_uri": "https://localhost:8080/"
        }
      },
      "execution_count": 47,
      "outputs": [
        {
          "output_type": "execute_result",
          "data": {
            "text/plain": [
              "0.7749431398039041"
            ]
          },
          "metadata": {},
          "execution_count": 47
        }
      ]
    },
    {
      "cell_type": "code",
      "source": [
        "# 11\n",
        "vetor_tfid = TfidfVectorizer(ngram_range=(1,1), use_idf=True, stop_words=stops, norm='l2')\n",
        "\n",
        "vetor_tfid.fit(df_treino.text_lemma_verbos)\n",
        "text_vect_treino = vetor_tfid.transform(df_treino.text_lemma_verbos)\n",
        "\n",
        "#treina modelo\n",
        "trees_model = RandomForestClassifier()\n",
        "trees_model.fit(text_vect_treino, df_treino[\"categoria\"])# aqui eu treino no modelo Decision tree associando minhas features e targets\n",
        "\n",
        "# testa e verifica a predição\n",
        "text_vect_test = vetor_tfid.transform(df_teste.text_lemma_verbos)\n",
        "pred = trees_model.predict(text_vect_test)\n",
        "\n",
        "# mede acuracia\n",
        "accuracy = accuracy_score(pred, df_teste['categoria'])\n",
        "f1_score(df_teste['categoria'], pred, average='weighted')"
      ],
      "metadata": {
        "id": "CQLkB3N674nD",
        "outputId": "b41fed2e-138c-40e4-ebb8-f73b2d8df626",
        "colab": {
          "base_uri": "https://localhost:8080/"
        }
      },
      "execution_count": 53,
      "outputs": [
        {
          "output_type": "execute_result",
          "data": {
            "text/plain": [
              "0.8120579923615779"
            ]
          },
          "metadata": {},
          "execution_count": 53
        }
      ]
    },
    {
      "cell_type": "code",
      "source": [
        "# testando mais algumas variações no modelo campeão até agora..mínimo 90 pra bater\n",
        "\n",
        "# Regressão Logistica com lematização em verbos\n",
        "from sklearn.svm import LinearSVC\n",
        "nltk.download('stopwords')\n",
        "nlp = spacy.load('pt_core_news_sm')\n",
        "\n",
        "#stopwords combinadas\n",
        "stops_spacy = nlp.Defaults.stop_words\n",
        "stops_nltk = nltk.corpus.stopwords.words('portuguese')\n",
        "stops = list(set(stops_spacy).union(set(stops_nltk)))\n",
        "\n",
        "# vetorização com Tfid\n",
        "\n",
        "vetor_tfid = TfidfVectorizer(ngram_range=(1,1), use_idf=True, stop_words=stops, norm='l2')\n",
        "vetor_tfid.fit(df_treino.text_lemma)\n",
        "text_vect_treino = vetor_tfid.transform(df_treino.text_lemma)\n",
        "\n",
        "#treina modelo\n",
        "# linear_model = LogisticRegression(random_state=42, class_weight='balanced')\n",
        "linear_model = LinearSVC(random_state=42)\n",
        "linear_model.fit(text_vect_treino, df_treino[\"categoria\"])# aqui eu treino no modelo Decision tree associando minhas features e targets\n",
        "\n",
        "# testa e verifica a predição\n",
        "text_vect_test = vetor_tfid.transform(df_teste.text_lemma)\n",
        "pred = linear_model.predict(text_vect_test)\n",
        "\n",
        "# mede acuracia\n",
        "f1_score(df_teste['categoria'], pred, average='weighted')"
      ],
      "metadata": {
        "id": "zuEei6l6_TRU",
        "outputId": "b8029821-0a67-4449-f394-5a54db762a6f",
        "colab": {
          "base_uri": "https://localhost:8080/"
        }
      },
      "execution_count": 74,
      "outputs": [
        {
          "output_type": "stream",
          "name": "stderr",
          "text": [
            "[nltk_data] Downloading package stopwords to /root/nltk_data...\n",
            "[nltk_data]   Package stopwords is already up-to-date!\n"
          ]
        },
        {
          "output_type": "execute_result",
          "data": {
            "text/plain": [
              "0.8750138296368589"
            ]
          },
          "metadata": {},
          "execution_count": 74
        }
      ]
    },
    {
      "cell_type": "markdown",
      "metadata": {
        "id": "68SiMjcWqD_m"
      },
      "source": [
        "####**Validação do professor**"
      ]
    },
    {
      "cell_type": "markdown",
      "metadata": {
        "id": "T24EasckqG2I"
      },
      "source": [
        "Consolidar apenas os scripts do seu **modelo campeão**, desde o carregamento do dataframe, separação das amostras, tratamentos utilizados (funções, limpezas, etc.), criação dos objetos de vetorização dos textos e modelo treinado e outras implementações utilizadas no processo de desenvolvimento do modelo."
      ]
    },
    {
      "cell_type": "code",
      "metadata": {
        "id": "ZxqHA-XCrqsD"
      },
      "source": [],
      "execution_count": null,
      "outputs": []
    },
    {
      "cell_type": "code",
      "metadata": {
        "id": "VFA-CYfawkEJ"
      },
      "source": [],
      "execution_count": null,
      "outputs": []
    },
    {
      "cell_type": "code",
      "metadata": {
        "id": "BuJtvcfXo3J4"
      },
      "source": [],
      "execution_count": null,
      "outputs": []
    },
    {
      "cell_type": "code",
      "metadata": {
        "id": "6ULYNH6-o3Hf"
      },
      "source": [],
      "execution_count": null,
      "outputs": []
    },
    {
      "cell_type": "code",
      "metadata": {
        "id": "3ClM-JTJo3FK"
      },
      "source": [],
      "execution_count": null,
      "outputs": []
    }
  ]
}